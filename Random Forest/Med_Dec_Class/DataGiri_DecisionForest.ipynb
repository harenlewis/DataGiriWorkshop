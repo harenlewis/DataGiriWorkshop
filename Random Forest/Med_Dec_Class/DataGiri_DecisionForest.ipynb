{
 "cells": [
  {
   "cell_type": "code",
   "execution_count": 2,
   "metadata": {},
   "outputs": [],
   "source": [
    "# Data Preprocessing\n",
    "#Install packages if not available like statsbomb\n",
    "# Go to CMD & type: python -m pip install <package-name>\n",
    "import statsbomb as sb\n",
    "import pandas as pd\n",
    "import numpy as np"
   ]
  },
  {
   "cell_type": "code",
   "execution_count": 5,
   "metadata": {},
   "outputs": [],
   "source": [
    "# Plotting\n",
    "import matplotlib.pyplot as plt\n",
    "import matplotlib.mlab as mlab\n",
    "%matplotlib inline\n",
    "import seaborn as sns\n",
    "import scikitplot as skplt"
   ]
  },
  {
   "cell_type": "code",
   "execution_count": 7,
   "metadata": {},
   "outputs": [],
   "source": [
    "# Machine learning\n",
    "from sklearn import preprocessing, model_selection, metrics\n",
    "from sklearn.model_selection import train_test_split, cross_val_predict, cross_val_score, GridSearchCV\n",
    "from sklearn.ensemble import RandomForestClassifier\n",
    "from sklearn.ensemble import ExtraTreesClassifier\n",
    "from sklearn.tree import DecisionTreeClassifier\n",
    "from sklearn.utils import resample\n",
    "from sklearn.feature_selection import RFE\n",
    "#from imblearn.over_sampling import SMOTE\n",
    "from collections import Counter"
   ]
  },
  {
   "cell_type": "code",
   "execution_count": 8,
   "metadata": {},
   "outputs": [],
   "source": [
    "# Get a list of the available competitions\n",
    "comps = sb.Competitions()"
   ]
  },
  {
   "cell_type": "code",
   "execution_count": 9,
   "metadata": {},
   "outputs": [],
   "source": [
    "# Get underlying json data\n",
    "json_data = comps.data"
   ]
  },
  {
   "cell_type": "code",
   "execution_count": 10,
   "metadata": {},
   "outputs": [
    {
     "data": {
      "text/html": [
       "<div>\n",
       "<style scoped>\n",
       "    .dataframe tbody tr th:only-of-type {\n",
       "        vertical-align: middle;\n",
       "    }\n",
       "\n",
       "    .dataframe tbody tr th {\n",
       "        vertical-align: top;\n",
       "    }\n",
       "\n",
       "    .dataframe thead th {\n",
       "        text-align: right;\n",
       "    }\n",
       "</style>\n",
       "<table border=\"1\" class=\"dataframe\">\n",
       "  <thead>\n",
       "    <tr style=\"text-align: right;\">\n",
       "      <th></th>\n",
       "      <th>competition_id</th>\n",
       "      <th>competition_name</th>\n",
       "      <th>country_name</th>\n",
       "      <th>match_available</th>\n",
       "      <th>match_updated</th>\n",
       "      <th>season_id</th>\n",
       "      <th>season_name</th>\n",
       "    </tr>\n",
       "  </thead>\n",
       "  <tbody>\n",
       "    <tr>\n",
       "      <th>0</th>\n",
       "      <td>37</td>\n",
       "      <td>FA Women's Super League</td>\n",
       "      <td>England</td>\n",
       "      <td>2018-12-29T15:31:50.002883</td>\n",
       "      <td>2018-12-29T15:31:50.002883</td>\n",
       "      <td>4</td>\n",
       "      <td>2018/2019</td>\n",
       "    </tr>\n",
       "    <tr>\n",
       "      <th>1</th>\n",
       "      <td>43</td>\n",
       "      <td>FIFA World Cup</td>\n",
       "      <td>International</td>\n",
       "      <td>2018-11-19T10:40:22.087513</td>\n",
       "      <td>2018-11-19T10:40:22.087513</td>\n",
       "      <td>3</td>\n",
       "      <td>2018</td>\n",
       "    </tr>\n",
       "    <tr>\n",
       "      <th>2</th>\n",
       "      <td>49</td>\n",
       "      <td>NWSL</td>\n",
       "      <td>United States of America</td>\n",
       "      <td>2018-11-03T20:33:13.451301</td>\n",
       "      <td>2018-11-20T14:33:28.815129</td>\n",
       "      <td>3</td>\n",
       "      <td>2018</td>\n",
       "    </tr>\n",
       "  </tbody>\n",
       "</table>\n",
       "</div>"
      ],
      "text/plain": [
       "   competition_id         competition_name              country_name  \\\n",
       "0              37  FA Women's Super League                   England   \n",
       "1              43           FIFA World Cup             International   \n",
       "2              49                     NWSL  United States of America   \n",
       "\n",
       "              match_available               match_updated  season_id  \\\n",
       "0  2018-12-29T15:31:50.002883  2018-12-29T15:31:50.002883          4   \n",
       "1  2018-11-19T10:40:22.087513  2018-11-19T10:40:22.087513          3   \n",
       "2  2018-11-03T20:33:13.451301  2018-11-20T14:33:28.815129          3   \n",
       "\n",
       "  season_name  \n",
       "0   2018/2019  \n",
       "1        2018  \n",
       "2        2018  "
      ]
     },
     "execution_count": 10,
     "metadata": {},
     "output_type": "execute_result"
    }
   ],
   "source": [
    "df = comps.get_dataframe()\n",
    "df"
   ]
  },
  {
   "cell_type": "code",
   "execution_count": 11,
   "metadata": {},
   "outputs": [
    {
     "data": {
      "text/html": [
       "<div>\n",
       "<style scoped>\n",
       "    .dataframe tbody tr th:only-of-type {\n",
       "        vertical-align: middle;\n",
       "    }\n",
       "\n",
       "    .dataframe tbody tr th {\n",
       "        vertical-align: top;\n",
       "    }\n",
       "\n",
       "    .dataframe thead th {\n",
       "        text-align: right;\n",
       "    }\n",
       "</style>\n",
       "<table border=\"1\" class=\"dataframe\">\n",
       "  <thead>\n",
       "    <tr style=\"text-align: right;\">\n",
       "      <th></th>\n",
       "      <th>away_score</th>\n",
       "      <th>away_team</th>\n",
       "      <th>competition</th>\n",
       "      <th>data_version</th>\n",
       "      <th>home_score</th>\n",
       "      <th>home_team</th>\n",
       "      <th>kick_off</th>\n",
       "      <th>last_updated</th>\n",
       "      <th>match_date</th>\n",
       "      <th>match_id</th>\n",
       "      <th>match_status</th>\n",
       "      <th>referee_name</th>\n",
       "      <th>season</th>\n",
       "      <th>stadium_name</th>\n",
       "    </tr>\n",
       "  </thead>\n",
       "  <tbody>\n",
       "    <tr>\n",
       "      <th>0</th>\n",
       "      <td>2</td>\n",
       "      <td>971</td>\n",
       "      <td>37</td>\n",
       "      <td>1.0.3</td>\n",
       "      <td>0</td>\n",
       "      <td>972</td>\n",
       "      <td>15:00:00.000</td>\n",
       "      <td>2018-11-16T20:32:28.253606</td>\n",
       "      <td>2018-11-04</td>\n",
       "      <td>19751</td>\n",
       "      <td>available</td>\n",
       "      <td>None</td>\n",
       "      <td>4</td>\n",
       "      <td>None</td>\n",
       "    </tr>\n",
       "    <tr>\n",
       "      <th>1</th>\n",
       "      <td>1</td>\n",
       "      <td>969</td>\n",
       "      <td>37</td>\n",
       "      <td>1.0.3</td>\n",
       "      <td>0</td>\n",
       "      <td>974</td>\n",
       "      <td>15:00:00.000</td>\n",
       "      <td>2018-10-31T21:28:32.325274</td>\n",
       "      <td>2018-09-23</td>\n",
       "      <td>19727</td>\n",
       "      <td>available</td>\n",
       "      <td>None</td>\n",
       "      <td>4</td>\n",
       "      <td>None</td>\n",
       "    </tr>\n",
       "    <tr>\n",
       "      <th>2</th>\n",
       "      <td>0</td>\n",
       "      <td>974</td>\n",
       "      <td>37</td>\n",
       "      <td>1.0.3</td>\n",
       "      <td>0</td>\n",
       "      <td>972</td>\n",
       "      <td>20:45:00.000</td>\n",
       "      <td>2018-10-31T21:28:32.325274</td>\n",
       "      <td>2018-09-19</td>\n",
       "      <td>19719</td>\n",
       "      <td>available</td>\n",
       "      <td>None</td>\n",
       "      <td>4</td>\n",
       "      <td>The Rush Green Stadium</td>\n",
       "    </tr>\n",
       "    <tr>\n",
       "      <th>3</th>\n",
       "      <td>1</td>\n",
       "      <td>970</td>\n",
       "      <td>37</td>\n",
       "      <td>1.0.3</td>\n",
       "      <td>2</td>\n",
       "      <td>972</td>\n",
       "      <td>15:00:00.000</td>\n",
       "      <td>2018-10-31T21:28:32.325274</td>\n",
       "      <td>2018-09-30</td>\n",
       "      <td>19731</td>\n",
       "      <td>available</td>\n",
       "      <td>None</td>\n",
       "      <td>4</td>\n",
       "      <td>None</td>\n",
       "    </tr>\n",
       "    <tr>\n",
       "      <th>4</th>\n",
       "      <td>0</td>\n",
       "      <td>965</td>\n",
       "      <td>37</td>\n",
       "      <td>1.0.3</td>\n",
       "      <td>2</td>\n",
       "      <td>971</td>\n",
       "      <td>14:00:00.000</td>\n",
       "      <td>2018-10-31T21:28:32.325274</td>\n",
       "      <td>2018-09-30</td>\n",
       "      <td>19730</td>\n",
       "      <td>available</td>\n",
       "      <td>None</td>\n",
       "      <td>4</td>\n",
       "      <td>None</td>\n",
       "    </tr>\n",
       "  </tbody>\n",
       "</table>\n",
       "</div>"
      ],
      "text/plain": [
       "   away_score away_team competition data_version  home_score home_team  \\\n",
       "0           2       971          37        1.0.3           0       972   \n",
       "1           1       969          37        1.0.3           0       974   \n",
       "2           0       974          37        1.0.3           0       972   \n",
       "3           1       970          37        1.0.3           2       972   \n",
       "4           0       965          37        1.0.3           2       971   \n",
       "\n",
       "       kick_off                last_updated  match_date  match_id  \\\n",
       "0  15:00:00.000  2018-11-16T20:32:28.253606  2018-11-04     19751   \n",
       "1  15:00:00.000  2018-10-31T21:28:32.325274  2018-09-23     19727   \n",
       "2  20:45:00.000  2018-10-31T21:28:32.325274  2018-09-19     19719   \n",
       "3  15:00:00.000  2018-10-31T21:28:32.325274  2018-09-30     19731   \n",
       "4  14:00:00.000  2018-10-31T21:28:32.325274  2018-09-30     19730   \n",
       "\n",
       "  match_status referee_name season            stadium_name  \n",
       "0    available         None      4                    None  \n",
       "1    available         None      4                    None  \n",
       "2    available         None      4  The Rush Green Stadium  \n",
       "3    available         None      4                    None  \n",
       "4    available         None      4                    None  "
      ]
     },
     "execution_count": 11,
     "metadata": {},
     "output_type": "execute_result"
    }
   ],
   "source": [
    "# Get all FA WSL matches\n",
    "fawsl_matches = sb.Matches('37').get_dataframe()\n",
    " \n",
    "# Get all NWSL matches\n",
    "nwsl_matches = sb.Matches('49').get_dataframe()\n",
    " \n",
    "# Combine into a single dataframe\n",
    "matches = fawsl_matches.append(nwsl_matches)\n",
    "matches.head()"
   ]
  },
  {
   "cell_type": "code",
   "execution_count": 12,
   "metadata": {},
   "outputs": [
    {
     "data": {
      "text/html": [
       "<div>\n",
       "<style scoped>\n",
       "    .dataframe tbody tr th:only-of-type {\n",
       "        vertical-align: middle;\n",
       "    }\n",
       "\n",
       "    .dataframe tbody tr th {\n",
       "        vertical-align: top;\n",
       "    }\n",
       "\n",
       "    .dataframe thead th {\n",
       "        text-align: right;\n",
       "    }\n",
       "</style>\n",
       "<table border=\"1\" class=\"dataframe\">\n",
       "  <thead>\n",
       "    <tr style=\"text-align: right;\">\n",
       "      <th></th>\n",
       "      <th>event_type</th>\n",
       "      <th>id</th>\n",
       "      <th>index</th>\n",
       "      <th>period</th>\n",
       "      <th>timestamp</th>\n",
       "      <th>minute</th>\n",
       "      <th>second</th>\n",
       "      <th>possession</th>\n",
       "      <th>possession_team</th>\n",
       "      <th>play_pattern</th>\n",
       "      <th>...</th>\n",
       "      <th>follows_dribble</th>\n",
       "      <th>redirect</th>\n",
       "      <th>one_on_one</th>\n",
       "      <th>open_goal</th>\n",
       "      <th>deflected</th>\n",
       "      <th>start_location_x</th>\n",
       "      <th>start_location_y</th>\n",
       "      <th>end_location_x</th>\n",
       "      <th>end_location_y</th>\n",
       "      <th>end_location_z</th>\n",
       "    </tr>\n",
       "  </thead>\n",
       "  <tbody>\n",
       "    <tr>\n",
       "      <th>0</th>\n",
       "      <td>shot</td>\n",
       "      <td>be76791e-ddde-4814-9af2-51435b504b33</td>\n",
       "      <td>44</td>\n",
       "      <td>1</td>\n",
       "      <td>00:01:37.689</td>\n",
       "      <td>1</td>\n",
       "      <td>37</td>\n",
       "      <td>5</td>\n",
       "      <td>Chelsea LFC</td>\n",
       "      <td>Regular Play</td>\n",
       "      <td>...</td>\n",
       "      <td>None</td>\n",
       "      <td>None</td>\n",
       "      <td>None</td>\n",
       "      <td>None</td>\n",
       "      <td>None</td>\n",
       "      <td>85.0</td>\n",
       "      <td>30.0</td>\n",
       "      <td>88.0</td>\n",
       "      <td>31.0</td>\n",
       "      <td>NaN</td>\n",
       "    </tr>\n",
       "    <tr>\n",
       "      <th>1</th>\n",
       "      <td>shot</td>\n",
       "      <td>dc22d90c-9fb4-4376-aa2a-975918e5b554</td>\n",
       "      <td>359</td>\n",
       "      <td>1</td>\n",
       "      <td>00:13:06.405</td>\n",
       "      <td>13</td>\n",
       "      <td>6</td>\n",
       "      <td>28</td>\n",
       "      <td>Chelsea LFC</td>\n",
       "      <td>From Corner</td>\n",
       "      <td>...</td>\n",
       "      <td>None</td>\n",
       "      <td>None</td>\n",
       "      <td>None</td>\n",
       "      <td>None</td>\n",
       "      <td>None</td>\n",
       "      <td>115.0</td>\n",
       "      <td>32.0</td>\n",
       "      <td>120.0</td>\n",
       "      <td>45.6</td>\n",
       "      <td>1.3</td>\n",
       "    </tr>\n",
       "    <tr>\n",
       "      <th>2</th>\n",
       "      <td>shot</td>\n",
       "      <td>dd0027d6-0bba-4c2c-8f70-d336737ef1ff</td>\n",
       "      <td>371</td>\n",
       "      <td>1</td>\n",
       "      <td>00:13:36.645</td>\n",
       "      <td>13</td>\n",
       "      <td>36</td>\n",
       "      <td>29</td>\n",
       "      <td>West Ham United LFC</td>\n",
       "      <td>From Goal Kick</td>\n",
       "      <td>...</td>\n",
       "      <td>None</td>\n",
       "      <td>None</td>\n",
       "      <td>None</td>\n",
       "      <td>None</td>\n",
       "      <td>None</td>\n",
       "      <td>109.0</td>\n",
       "      <td>21.0</td>\n",
       "      <td>117.0</td>\n",
       "      <td>65.0</td>\n",
       "      <td>NaN</td>\n",
       "    </tr>\n",
       "    <tr>\n",
       "      <th>3</th>\n",
       "      <td>shot</td>\n",
       "      <td>80c97350-d5e8-44c0-a2f2-93ca1085ff58</td>\n",
       "      <td>388</td>\n",
       "      <td>1</td>\n",
       "      <td>00:14:01.505</td>\n",
       "      <td>14</td>\n",
       "      <td>1</td>\n",
       "      <td>30</td>\n",
       "      <td>Chelsea LFC</td>\n",
       "      <td>Regular Play</td>\n",
       "      <td>...</td>\n",
       "      <td>None</td>\n",
       "      <td>None</td>\n",
       "      <td>True</td>\n",
       "      <td>None</td>\n",
       "      <td>None</td>\n",
       "      <td>107.0</td>\n",
       "      <td>44.0</td>\n",
       "      <td>114.0</td>\n",
       "      <td>39.5</td>\n",
       "      <td>0.5</td>\n",
       "    </tr>\n",
       "    <tr>\n",
       "      <th>4</th>\n",
       "      <td>shot</td>\n",
       "      <td>c3decc71-9395-4ab0-b85f-40e13bbc619b</td>\n",
       "      <td>649</td>\n",
       "      <td>1</td>\n",
       "      <td>00:23:18.653</td>\n",
       "      <td>23</td>\n",
       "      <td>18</td>\n",
       "      <td>47</td>\n",
       "      <td>Chelsea LFC</td>\n",
       "      <td>From Free Kick</td>\n",
       "      <td>...</td>\n",
       "      <td>None</td>\n",
       "      <td>None</td>\n",
       "      <td>None</td>\n",
       "      <td>None</td>\n",
       "      <td>None</td>\n",
       "      <td>104.0</td>\n",
       "      <td>45.0</td>\n",
       "      <td>117.0</td>\n",
       "      <td>39.8</td>\n",
       "      <td>1.7</td>\n",
       "    </tr>\n",
       "  </tbody>\n",
       "</table>\n",
       "<p>5 rows × 33 columns</p>\n",
       "</div>"
      ],
      "text/plain": [
       "  event_type                                    id  index  period  \\\n",
       "0       shot  be76791e-ddde-4814-9af2-51435b504b33     44       1   \n",
       "1       shot  dc22d90c-9fb4-4376-aa2a-975918e5b554    359       1   \n",
       "2       shot  dd0027d6-0bba-4c2c-8f70-d336737ef1ff    371       1   \n",
       "3       shot  80c97350-d5e8-44c0-a2f2-93ca1085ff58    388       1   \n",
       "4       shot  c3decc71-9395-4ab0-b85f-40e13bbc619b    649       1   \n",
       "\n",
       "      timestamp  minute  second  possession      possession_team  \\\n",
       "0  00:01:37.689       1      37           5          Chelsea LFC   \n",
       "1  00:13:06.405      13       6          28          Chelsea LFC   \n",
       "2  00:13:36.645      13      36          29  West Ham United LFC   \n",
       "3  00:14:01.505      14       1          30          Chelsea LFC   \n",
       "4  00:23:18.653      23      18          47          Chelsea LFC   \n",
       "\n",
       "     play_pattern      ...        follows_dribble redirect one_on_one  \\\n",
       "0    Regular Play      ...                   None     None       None   \n",
       "1     From Corner      ...                   None     None       None   \n",
       "2  From Goal Kick      ...                   None     None       None   \n",
       "3    Regular Play      ...                   None     None       True   \n",
       "4  From Free Kick      ...                   None     None       None   \n",
       "\n",
       "  open_goal  deflected start_location_x  start_location_y end_location_x  \\\n",
       "0      None       None             85.0              30.0           88.0   \n",
       "1      None       None            115.0              32.0          120.0   \n",
       "2      None       None            109.0              21.0          117.0   \n",
       "3      None       None            107.0              44.0          114.0   \n",
       "4      None       None            104.0              45.0          117.0   \n",
       "\n",
       "  end_location_y end_location_z  \n",
       "0           31.0            NaN  \n",
       "1           45.6            1.3  \n",
       "2           65.0            NaN  \n",
       "3           39.5            0.5  \n",
       "4           39.8            1.7  \n",
       "\n",
       "[5 rows x 33 columns]"
      ]
     },
     "execution_count": 12,
     "metadata": {},
     "output_type": "execute_result"
    }
   ],
   "source": [
    "# Create a list of all match ids\n",
    "match_list = matches['match_id'].tolist()\n",
    " \n",
    "# Create a blank dataframe for all shot events\n",
    "shots_df = pd.DataFrame()\n",
    " \n",
    "# Loop through the events database and pull out all shot events for each match in match_list\n",
    "for i in match_list:\n",
    "    events = sb.Events(event_id=i)\n",
    "    df = events.get_dataframe(event_type='shot')\n",
    "    shots_df = shots_df.append(df)\n",
    "     \n",
    "shots_df.head()"
   ]
  },
  {
   "cell_type": "code",
   "execution_count": 13,
   "metadata": {},
   "outputs": [
    {
     "name": "stdout",
     "output_type": "stream",
     "text": [
      "2556 shots is not a huge sample to work with!\n",
      "\n",
      "The dataset contains the following columns:\n",
      "['event_type', 'id', 'index', 'period', 'timestamp', 'minute', 'second', 'possession', 'possession_team', 'play_pattern', 'off_camera', 'team', 'player', 'position', 'duration', 'under_pressure', 'statsbomb_xg', 'key_pass_id', 'body_part', 'type', 'outcome', 'technique', 'first_time', 'follows_dribble', 'redirect', 'one_on_one', 'open_goal', 'deflected', 'start_location_x', 'start_location_y', 'end_location_x', 'end_location_y', 'end_location_z']\n",
      "\n",
      "Unique values in the 'type' column:\n",
      "['Open Play' 'Free Kick' 'Penalty']\n",
      "\n",
      "Unique values in the 'play_pattern' column:\n",
      "['Regular Play' 'From Corner' 'From Goal Kick' 'From Free Kick'\n",
      " 'From Counter' 'From Throw In' 'From Keeper' 'From Kick Off' 'Other']\n"
     ]
    }
   ],
   "source": [
    "# Print some details about the dataset\n",
    "print(len(shots_df), \"shots is not a huge sample to work with!\")\n",
    "print(\"\")\n",
    " \n",
    "print(\"The dataset contains the following columns:\")\n",
    "print(list(shots_df))\n",
    "print(\"\")\n",
    " \n",
    "print(\"Unique values in the 'type' column:\")\n",
    "print(shots_df['type'].unique())\n",
    "print(\"\")\n",
    " \n",
    "print(\"Unique values in the 'play_pattern' column:\")\n",
    "print(shots_df['play_pattern'].unique())"
   ]
  },
  {
   "cell_type": "code",
   "execution_count": 14,
   "metadata": {},
   "outputs": [
    {
     "name": "stderr",
     "output_type": "stream",
     "text": [
      "C:\\Users\\DELL\\Anaconda3\\lib\\site-packages\\ipykernel_launcher.py:5: SettingWithCopyWarning: \n",
      "A value is trying to be set on a copy of a slice from a DataFrame.\n",
      "Try using .loc[row_indexer,col_indexer] = value instead\n",
      "\n",
      "See the caveats in the documentation: http://pandas.pydata.org/pandas-docs/stable/indexing.html#indexing-view-versus-copy\n",
      "  \"\"\"\n"
     ]
    },
    {
     "name": "stdout",
     "output_type": "stream",
     "text": [
      "Average conversion rate: 9.65%\n",
      "\n"
     ]
    },
    {
     "data": {
      "text/plain": [
       "<matplotlib.axes._subplots.AxesSubplot at 0xc1f22e8>"
      ]
     },
     "execution_count": 14,
     "metadata": {},
     "output_type": "execute_result"
    },
    {
     "data": {
      "image/png": "[encoded data removed]",
      "text/plain": [
       "<Figure size 432x288 with 1 Axes>"
      ]
     },
     "metadata": {},
     "output_type": "display_data"
    }
   ],
   "source": [
    "# Remove penalties from the data\n",
    "np_shots = shots_df[shots_df['type'] != 'Penalty']\n",
    " \n",
    "# Create a goal column, where 1 = goal and 0 = no goal\n",
    "np_shots['goal'] = np.where(np_shots['outcome'] == 'Goal', 1, 0)\n",
    " \n",
    "# Calculate average shot conversion rate\n",
    "attempts = len(np_shots)\n",
    "goals = sum(np_shots['goal'])\n",
    "misses = attempts - goals\n",
    "conversion_rate = goals / attempts\n",
    "print(\"Average conversion rate:\", \"{0:.2f}%\".format(conversion_rate*100))\n",
    "print(\"\")\n",
    " \n",
    "# Plot the count of 'goal' and 'no goal' events to show imbalance\n",
    "sns.set(style=\"ticks\", color_codes=True)\n",
    "sns.countplot(x=\"goal\", data=np_shots)"
   ]
  },
  {
   "cell_type": "code",
   "execution_count": 15,
   "metadata": {},
   "outputs": [],
   "source": [
    "# Feature engineering\n",
    "# Reset index\n",
    "np_shots = np_shots.reset_index().drop('level_0', axis=1)\n",
    " \n",
    "# Create a column to show whether or not the shot was assisted\n",
    "# This feature won't necessarily have much predictive power, but we may as well find out!\n",
    "np_shots['assisted'] = np.where(np_shots['key_pass_id'].isna(), 0, 1)\n",
    " \n",
    "# Create columns for distance and angle\n",
    "# In this dataset, the pitch is 120 units long and 80 units wide\n",
    "# We will measure distance and angle from the centre of the goal at (120, 40) to the starting point of the shot\n",
    "# These features will be easier for the algorithm to interpret than start_location_x etc\n",
    "np_shots['x_distance'] = 120 - np_shots['start_location_x']\n",
    "np_shots['y_distance'] = abs(40 - np_shots['start_location_y'])\n",
    "np_shots['distance'] = np.sqrt((np_shots['x_distance']**2 + np_shots['y_distance']**2))\n",
    "np_shots['angle'] = np.degrees(np.arctan((np_shots['y_distance'] / np_shots['x_distance'])))\n",
    " \n",
    "# We would only want to differentiate between left and right foot if we already knew the player's weak foot\n",
    "# If we don't correct this, 'left foot' might be more predictive than 'right foot' due to the majority of players being right-footed\n",
    "np_shots['body_part'] = np.where((np_shots['body_part'] == 'Right Foot')\n",
    "                                 | (np_shots['body_part'] == 'Left Foot'), 'foot',\n",
    "                                np.where(np_shots['body_part'] == 'Head', 'head', 'other'))"
   ]
  },
  {
   "cell_type": "code",
   "execution_count": 16,
   "metadata": {},
   "outputs": [],
   "source": [
    "# Select model features and labels\n",
    "feature_cols = ['play_pattern', 'under_pressure', 'body_part', 'technique', 'first_time',\n",
    "                'follows_dribble', 'redirect', 'one_on_one', 'open_goal', 'deflected',\n",
    "                'assisted', 'distance', 'angle']\n",
    " \n",
    "features = np_shots[feature_cols]\n",
    "labels = np_shots['goal']\n",
    " \n",
    "# Fill missing values\n",
    "features = features.fillna(0)\n",
    "labels = labels.fillna(0)"
   ]
  },
  {
   "cell_type": "code",
   "execution_count": 21,
   "metadata": {},
   "outputs": [
    {
     "data": {
      "text/plain": [
       "assisted             int32\n",
       "distance           float64\n",
       "angle              float64\n",
       "play_pattern         int64\n",
       "under_pressure       int64\n",
       "body_part            int64\n",
       "technique            int64\n",
       "first_time           int64\n",
       "follows_dribble      int64\n",
       "redirect             int64\n",
       "one_on_one           int64\n",
       "open_goal            int64\n",
       "deflected            int64\n",
       "dtype: object"
      ]
     },
     "execution_count": 21,
     "metadata": {},
     "output_type": "execute_result"
    }
   ],
   "source": [
    "# Encode categorical features\n",
    "cat_cols = ['play_pattern', 'under_pressure', 'body_part', 'technique', 'first_time',\n",
    "                'follows_dribble', 'redirect', 'one_on_one', 'open_goal', 'deflected']\n",
    " \n",
    "cat_features = features[cat_cols]\n",
    "features = features.drop(cat_cols, axis=1)\n",
    " \n",
    "# Use label encoding to convert categorical features to numeric\n",
    "le = preprocessing.LabelEncoder()\n",
    "cat_features = cat_features.apply(le.fit_transform)\n",
    " \n",
    "# Merge with numeric features\n",
    "features = features.merge(cat_features, left_index=True, right_index=True)\n",
    "# Check it worked\n",
    "features.dtypes"
   ]
  },
  {
   "cell_type": "code",
   "execution_count": 22,
   "metadata": {},
   "outputs": [
    {
     "name": "stdout",
     "output_type": "stream",
     "text": [
      "(2032, 13)\n",
      "(508, 13)\n"
     ]
    }
   ],
   "source": [
    "# Split data into a training set and a test set\n",
    "# I have chosen an 80-20 split here\n",
    "# Setting shuffle=True re-orders the dataset randomly\n",
    "# Using the same random_state for each model ensures that we can compare different models accurately\n",
    "# X is our model features, and y is our labels (this is a common naming convention)\n",
    "X_train, X_test, y_train, y_test = train_test_split(features, labels, test_size=0.20, shuffle=True, random_state=42)\n",
    " \n",
    "# Scale X to be between 0 and 1 (can speed up processing and help with accuracy)\n",
    "# Note that y is already either 0 or 1, so we don't need to do anything to it\n",
    "scaler = preprocessing.MinMaxScaler(feature_range=(0, 1))\n",
    "X_train = scaler.fit_transform(X_train)\n",
    "X_test = scaler.fit_transform(X_test)\n",
    " \n",
    "# Check that we have the same number of rows and columns in both the training and test set\n",
    "print(X_train.shape)\n",
    "print(X_test.shape)"
   ]
  },
  {
   "cell_type": "code",
   "execution_count": 42,
   "metadata": {},
   "outputs": [],
   "source": [
    "# Define the algorithm we want to use for our model\n",
    "clf = DecisionTreeClassifier(random_state=0)\n",
    " \n",
    "# Train the model\n",
    "clf.fit(X_train, y_train)\n",
    " \n",
    "# Create predictions\n",
    "y_pred = clf.predict(X_test)\n",
    "y_pred_prob = clf.predict_proba(X_test)"
   ]
  },
  {
   "cell_type": "code",
   "execution_count": 43,
   "metadata": {},
   "outputs": [
    {
     "name": "stdout",
     "output_type": "stream",
     "text": [
      "Predicted goals (test set): 52\n",
      "Sum of predicted goal probabilities (aka xG): 58.45\n",
      "Actual goals (test set): 51\n",
      "\n",
      "             precision    recall  f1-score   support\n",
      "\n",
      "          0       0.92      0.92      0.92       457\n",
      "          1       0.27      0.27      0.27        51\n",
      "\n",
      "avg / total       0.85      0.85      0.85       508\n",
      "\n"
     ]
    },
    {
     "data": {
      "image/png": "[encoded data removed]",
      "text/plain": [
       "<Figure size 432x288 with 2 Axes>"
      ]
     },
     "metadata": {},
     "output_type": "display_data"
    },
    {
     "data": {
      "image/png": "[encoded data removed]",
      "text/plain": [
       "<Figure size 432x288 with 1 Axes>"
      ]
     },
     "metadata": {},
     "output_type": "display_data"
    },
    {
     "data": {
      "image/png": "[encoded data removed]",
      "text/plain": [
       "<Figure size 864x1008 with 1 Axes>"
      ]
     },
     "metadata": {},
     "output_type": "display_data"
    }
   ],
   "source": [
    "#EVALUATING\n",
    "# Print results\n",
    "print(\"Predicted goals (test set):\", sum(y_pred))\n",
    "print(\"Actual goals (test set):\", sum(y_test))\n",
    "print('')\n",
    "print(metrics.classification_report(y_test, y_pred))\n",
    " \n",
    "# Plot results\n",
    "skplt.metrics.plot_confusion_matrix(y_test, y_pred)\n",
    " \n",
    "skplt.metrics.plot_precision_recall(y_test, y_pred_prob)\n",
    " \n",
    "# Get feature importance\n",
    "importances = pd.DataFrame({'feature':features.columns,'importance':np.round(clf.feature_importances_,3)})\n",
    "importances = importances.sort_values('importance',ascending=False)\n",
    " \n",
    "f, ax = plt.subplots(figsize=(12, 14))\n",
    "g = sns.barplot(x='importance', y='feature', data=importances,\n",
    "                color=\"blue\", saturation=.2, label=\"Total\")\n",
    "g.set(xlabel='Feature Importance', ylabel='Feature', title='Feature Importance in Predicting xG')\n",
    "plt.show()"
   ]
  },
  {
   "cell_type": "code",
   "execution_count": 62,
   "metadata": {},
   "outputs": [],
   "source": [
    "# Using Random Forest\n",
    "clf2 = RandomForestClassifier(n_estimators = 20, criterion = 'gini', random_state = 0)\n",
    " \n",
    "# Train the model\n",
    "clf2.fit(X_train, y_train)\n",
    " \n",
    "# Create predictions\n",
    "y_pred2 = clf2.predict(X_test)\n",
    "y_pred_prob2 = clf2.predict_proba(X_test)"
   ]
  },
  {
   "cell_type": "code",
   "execution_count": 63,
   "metadata": {},
   "outputs": [
    {
     "name": "stdout",
     "output_type": "stream",
     "text": [
      "Predicted goals (test set): 20\n",
      "Sum of predicted goal probabilities (aka xG): 57.08\n",
      "Actual goals (test set): 51\n",
      "\n",
      "             precision    recall  f1-score   support\n",
      "\n",
      "          0       0.91      0.97      0.94       457\n",
      "          1       0.35      0.14      0.20        51\n",
      "\n",
      "avg / total       0.85      0.89      0.87       508\n",
      "\n"
     ]
    },
    {
     "data": {
      "image/png": "[encoded data removed]",
      "text/plain": [
       "<Figure size 432x288 with 2 Axes>"
      ]
     },
     "metadata": {},
     "output_type": "display_data"
    },
    {
     "data": {
      "image/png": "[encoded data removed]",
      "text/plain": [
       "<Figure size 432x288 with 1 Axes>"
      ]
     },
     "metadata": {},
     "output_type": "display_data"
    },
    {
     "data": {
      "image/png": "[encoded data removed]",
      "text/plain": [
       "<Figure size 864x1008 with 1 Axes>"
      ]
     },
     "metadata": {},
     "output_type": "display_data"
    }
   ],
   "source": [
    "#EVALUATING RANDOM FOREST\n",
    "# Print results\n",
    "print(\"Predicted goals (test set):\", sum(y_pred2))\n",
    "print(\"Actual goals (test set):\", sum(y_test))\n",
    "print('')\n",
    "print(metrics.classification_report(y_test, y_pred2))\n",
    " \n",
    "# Plot results\n",
    "skplt.metrics.plot_confusion_matrix(y_test, y_pred2)\n",
    " \n",
    "skplt.metrics.plot_precision_recall(y_test, y_pred_prob2)\n",
    " \n",
    "# Get feature importance\n",
    "importances = pd.DataFrame({'feature':features.columns,'importance':np.round(clf2.feature_importances_,3)})\n",
    "importances = importances.sort_values('importance',ascending=False)\n",
    " \n",
    "f, ax = plt.subplots(figsize=(12, 14))\n",
    "g = sns.barplot(x='importance', y='feature', data=importances,\n",
    "                color=\"blue\", saturation=.2, label=\"Total\")\n",
    "g.set(xlabel='Feature Importance', ylabel='Feature', title='Feature Importance in Predicting xG')\n",
    "plt.show()"
   ]
  },
  {
   "cell_type": "code",
   "execution_count": null,
   "metadata": {},
   "outputs": [],
   "source": []
  }
 ],
 "metadata": {
  "kernelspec": {
   "display_name": "Python 3",
   "language": "python",
   "name": "python3"
  },
  "language_info": {
   "codemirror_mode": {
    "name": "ipython",
    "version": 3
   },
   "file_extension": ".py",
   "mimetype": "text/x-python",
   "name": "python",
   "nbconvert_exporter": "python",
   "pygments_lexer": "ipython3",
   "version": "3.6.5"
  }
 },
 "nbformat": 4,
 "nbformat_minor": 2
}
